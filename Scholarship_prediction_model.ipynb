{
 "cells": [
  {
   "cell_type": "code",
   "execution_count": 1,
   "id": "a52d69e6",
   "metadata": {},
   "outputs": [
    {
     "data": {
      "text/plain": [
       "('/mnt/data/simulated_students.csv', '/mnt/data/simulated_scholarships.csv')"
      ]
     },
     "execution_count": 1,
     "metadata": {},
     "output_type": "execute_result"
    }
   ],
   "source": [
    "import pandas as pd\n",
    "import numpy as np\n",
    "\n",
    "# Number of samples for students and scholarships\n",
    "num_students = 50\n",
    "num_scholarships = 10\n",
    "\n",
    "# Creating random student data\n",
    "np.random.seed(42)\n",
    "student_data = {\n",
    "    'Student_ID': np.arange(1, num_students + 1),\n",
    "    'GPA': np.round(np.random.uniform(2.0, 4.0, num_students), 2),\n",
    "    'Extracurriculars': np.random.randint(0, 11, num_students),\n",
    "    'Family_Income': np.random.randint(10000, 100000, num_students),\n",
    "    'Previous_Scholarships': np.random.choice(['Yes', 'No'], num_students)\n",
    "}\n",
    "\n",
    "students_df = pd.DataFrame(student_data)\n",
    "\n",
    "# Creating random scholarship criteria data\n",
    "scholarship_data = {\n",
    "    'Scholarship_ID': np.arange(1, num_scholarships + 1),\n",
    "    'Min_GPA': np.round(np.random.uniform(2.5, 3.5, num_scholarships), 2),\n",
    "    'Min_Extracurriculars': np.random.randint(1, 6, num_scholarships),\n",
    "    'Max_Family_Income': np.random.randint(50000, 75000, num_scholarships)\n",
    "}\n",
    "\n",
    "scholarships_df = pd.DataFrame(scholarship_data)\n",
    "\n",
    "# Saving the datasets\n",
    "students_path = \"/mnt/data/simulated_students.csv\"\n",
    "scholarships_path = \"/mnt/data/simulated_scholarships.csv\"\n",
    "\n",
    "students_df.to_csv(\"C:/Users/rukmi/Scholarship Prediction Model using AI/students.csv\", index=False)\n",
    "scholarships_df.to_csv(\"C:/Users/rukmi/Scholarship Prediction Model using AI/scholarships.csv\", index=False)\n",
    "\n",
    "students_path, scholarships_path\n"
   ]
  },
  {
   "cell_type": "code",
   "execution_count": 2,
   "id": "10e478cf",
   "metadata": {},
   "outputs": [
    {
     "name": "stdout",
     "output_type": "stream",
     "text": [
      "   Student_ID   GPA  Extracurriculars  Family_Income Previous_Scholarships  \\\n",
      "0           1  2.75                 1          80592                    No   \n",
      "1           2  3.90                 9          18110                   Yes   \n",
      "2           3  3.46                 1          89309                   Yes   \n",
      "3           4  3.20                 9          37266                    No   \n",
      "4           5  2.31                 3          62992                   Yes   \n",
      "\n",
      "   Scholarship_1.0_Eligible  Scholarship_2.0_Eligible  \\\n",
      "0                     False                     False   \n",
      "1                      True                      True   \n",
      "2                     False                     False   \n",
      "3                     False                      True   \n",
      "4                     False                     False   \n",
      "\n",
      "   Scholarship_3.0_Eligible  Scholarship_4.0_Eligible  \\\n",
      "0                     False                     False   \n",
      "1                      True                      True   \n",
      "2                     False                     False   \n",
      "3                      True                     False   \n",
      "4                     False                     False   \n",
      "\n",
      "   Scholarship_5.0_Eligible  Scholarship_6.0_Eligible  \\\n",
      "0                     False                     False   \n",
      "1                      True                      True   \n",
      "2                     False                     False   \n",
      "3                      True                     False   \n",
      "4                     False                     False   \n",
      "\n",
      "   Scholarship_7.0_Eligible  Scholarship_8.0_Eligible  \\\n",
      "0                     False                     False   \n",
      "1                      True                      True   \n",
      "2                     False                     False   \n",
      "3                      True                      True   \n",
      "4                     False                     False   \n",
      "\n",
      "   Scholarship_9.0_Eligible  Scholarship_10.0_Eligible  \n",
      "0                     False                      False  \n",
      "1                      True                       True  \n",
      "2                     False                      False  \n",
      "3                      True                       True  \n",
      "4                     False                      False  \n"
     ]
    }
   ],
   "source": [
    "import pandas as pd\n",
    "\n",
    "# Load the student and scholarship datasets\n",
    "students_df = pd.read_csv('students.csv')\n",
    "scholarships_df = pd.read_csv('scholarships.csv')\n",
    "\n",
    "# Function to check eligibility for each student against a specific scholarship\n",
    "def check_eligibility(row, scholarship):\n",
    "    return (row['GPA'] >= scholarship['Min_GPA'] and \n",
    "            row['Extracurriculars'] >= scholarship['Min_Extracurriculars'] and \n",
    "            row['Family_Income'] <= scholarship['Max_Family_Income'])\n",
    "\n",
    "# Loop through each scholarship and check eligibility for each student\n",
    "for i, scholarship in scholarships_df.iterrows():\n",
    "    # Create a new column for each scholarship to indicate eligibility\n",
    "    students_df[f'Scholarship_{scholarship[\"Scholarship_ID\"]}_Eligible'] = students_df.apply(lambda row: check_eligibility(row, scholarship), axis=1)\n",
    "\n",
    "# Preview the updated students dataframe with eligibility columns\n",
    "print(students_df.head())\n"
   ]
  },
  {
   "cell_type": "code",
   "execution_count": 3,
   "id": "a69dbf6a",
   "metadata": {},
   "outputs": [
    {
     "name": "stdout",
     "output_type": "stream",
     "text": [
      "<class 'pandas.core.frame.DataFrame'>\n",
      "RangeIndex: 50 entries, 0 to 49\n",
      "Data columns (total 15 columns):\n",
      " #   Column                     Non-Null Count  Dtype  \n",
      "---  ------                     --------------  -----  \n",
      " 0   Student_ID                 50 non-null     int64  \n",
      " 1   GPA                        50 non-null     float64\n",
      " 2   Extracurriculars           50 non-null     int64  \n",
      " 3   Family_Income              50 non-null     int64  \n",
      " 4   Previous_Scholarships      50 non-null     object \n",
      " 5   Scholarship_1.0_Eligible   50 non-null     bool   \n",
      " 6   Scholarship_2.0_Eligible   50 non-null     bool   \n",
      " 7   Scholarship_3.0_Eligible   50 non-null     bool   \n",
      " 8   Scholarship_4.0_Eligible   50 non-null     bool   \n",
      " 9   Scholarship_5.0_Eligible   50 non-null     bool   \n",
      " 10  Scholarship_6.0_Eligible   50 non-null     bool   \n",
      " 11  Scholarship_7.0_Eligible   50 non-null     bool   \n",
      " 12  Scholarship_8.0_Eligible   50 non-null     bool   \n",
      " 13  Scholarship_9.0_Eligible   50 non-null     bool   \n",
      " 14  Scholarship_10.0_Eligible  50 non-null     bool   \n",
      "dtypes: bool(10), float64(1), int64(3), object(1)\n",
      "memory usage: 2.6+ KB\n",
      "None\n"
     ]
    }
   ],
   "source": [
    "print(students_df.info())"
   ]
  },
  {
   "cell_type": "code",
   "execution_count": 4,
   "id": "5e1cb065",
   "metadata": {},
   "outputs": [
    {
     "name": "stdout",
     "output_type": "stream",
     "text": [
      "       Student_ID        GPA  Extracurriculars  Family_Income\n",
      "count    50.00000  50.000000         50.000000      50.000000\n",
      "mean     25.50000   2.891400          5.460000   56379.860000\n",
      "std      14.57738   0.577892          3.150704   25794.095194\n",
      "min       1.00000   2.040000          0.000000   10206.000000\n",
      "25%      13.25000   2.370000          2.250000   33508.250000\n",
      "50%      25.50000   2.870000          6.500000   59547.500000\n",
      "75%      37.75000   3.302500          8.000000   77121.000000\n",
      "max      50.00000   3.940000         10.000000   97939.000000\n"
     ]
    }
   ],
   "source": [
    "print(students_df.describe())"
   ]
  },
  {
   "cell_type": "code",
   "execution_count": 5,
   "id": "44129557",
   "metadata": {},
   "outputs": [
    {
     "name": "stdout",
     "output_type": "stream",
     "text": [
      "   Student_ID   GPA  Extracurriculars  Family_Income Previous_Scholarships  \\\n",
      "0           1  2.75                 1          80592                    No   \n",
      "1           2  3.90                 9          18110                   Yes   \n",
      "2           3  3.46                 1          89309                   Yes   \n",
      "3           4  3.20                 9          37266                    No   \n",
      "4           5  2.31                 3          62992                   Yes   \n",
      "\n",
      "   Scholarship_1.0_Eligible  Scholarship_2.0_Eligible  \\\n",
      "0                         0                         0   \n",
      "1                         1                         1   \n",
      "2                         0                         0   \n",
      "3                         0                         1   \n",
      "4                         0                         0   \n",
      "\n",
      "   Scholarship_3.0_Eligible  Scholarship_4.0_Eligible  \\\n",
      "0                         0                         0   \n",
      "1                         1                         1   \n",
      "2                         0                         0   \n",
      "3                         1                         0   \n",
      "4                         0                         0   \n",
      "\n",
      "   Scholarship_5.0_Eligible  Scholarship_6.0_Eligible  \\\n",
      "0                         0                         0   \n",
      "1                         1                         1   \n",
      "2                         0                         0   \n",
      "3                         1                         0   \n",
      "4                         0                         0   \n",
      "\n",
      "   Scholarship_7.0_Eligible  Scholarship_8.0_Eligible  \\\n",
      "0                         0                         0   \n",
      "1                         1                         1   \n",
      "2                         0                         0   \n",
      "3                         1                         1   \n",
      "4                         0                         0   \n",
      "\n",
      "   Scholarship_9.0_Eligible  Scholarship_10.0_Eligible  \n",
      "0                         0                          0  \n",
      "1                         1                          1  \n",
      "2                         0                          0  \n",
      "3                         1                          1  \n",
      "4                         0                          0  \n"
     ]
    }
   ],
   "source": [
    "# Convert all boolean columns to integers (1 for True, 0 for False)\n",
    "students_df[students_df.select_dtypes(['bool']).columns] = students_df.select_dtypes(['bool']).astype(int)\n",
    "\n",
    "# Verify the changes\n",
    "print(students_df.head())\n"
   ]
  },
  {
   "cell_type": "code",
   "execution_count": 6,
   "id": "a94c5325",
   "metadata": {},
   "outputs": [
    {
     "name": "stdout",
     "output_type": "stream",
     "text": [
      "Model Accuracy: 90.00%\n",
      "              precision    recall  f1-score   support\n",
      "\n",
      "           0       0.90      1.00      0.95         9\n",
      "           1       0.00      0.00      0.00         1\n",
      "\n",
      "    accuracy                           0.90        10\n",
      "   macro avg       0.45      0.50      0.47        10\n",
      "weighted avg       0.81      0.90      0.85        10\n",
      "\n"
     ]
    },
    {
     "name": "stderr",
     "output_type": "stream",
     "text": [
      "C:\\Users\\rukmi\\anaconda3\\envs\\machinelearning\\lib\\site-packages\\sklearn\\metrics\\_classification.py:1344: UndefinedMetricWarning: Precision and F-score are ill-defined and being set to 0.0 in labels with no predicted samples. Use `zero_division` parameter to control this behavior.\n",
      "  _warn_prf(average, modifier, msg_start, len(result))\n",
      "C:\\Users\\rukmi\\anaconda3\\envs\\machinelearning\\lib\\site-packages\\sklearn\\metrics\\_classification.py:1344: UndefinedMetricWarning: Precision and F-score are ill-defined and being set to 0.0 in labels with no predicted samples. Use `zero_division` parameter to control this behavior.\n",
      "  _warn_prf(average, modifier, msg_start, len(result))\n",
      "C:\\Users\\rukmi\\anaconda3\\envs\\machinelearning\\lib\\site-packages\\sklearn\\metrics\\_classification.py:1344: UndefinedMetricWarning: Precision and F-score are ill-defined and being set to 0.0 in labels with no predicted samples. Use `zero_division` parameter to control this behavior.\n",
      "  _warn_prf(average, modifier, msg_start, len(result))\n"
     ]
    }
   ],
   "source": [
    "from sklearn.preprocessing import MinMaxScaler\n",
    "from sklearn.model_selection import train_test_split\n",
    "from sklearn.linear_model import LogisticRegression\n",
    "from sklearn.metrics import accuracy_score, classification_report\n",
    "\n",
    "# Load the dataset (if not already loaded in memory)\n",
    "# students_df = pd.read_csv('simulated_students.csv')  # Only if necessary\n",
    "\n",
    "# Define the features (GPA, Extracurriculars, Family_Income)\n",
    "X = students_df[['GPA', 'Extracurriculars', 'Family_Income']]\n",
    "\n",
    "# Define the target (Eligibility for Scholarship 1)\n",
    "y = students_df['Scholarship_1.0_Eligible']\n",
    "\n",
    "# Normalize the features using MinMaxScaler\n",
    "scaler = MinMaxScaler()\n",
    "X_scaled = scaler.fit_transform(X)\n",
    "\n",
    "# Split the dataset into training and testing sets (80% train, 20% test)\n",
    "X_train, X_test, y_train, y_test = train_test_split(X_scaled, y, test_size=0.2, random_state=42)\n",
    "\n",
    "# Train a Logistic Regression model\n",
    "model = LogisticRegression()\n",
    "model.fit(X_train, y_train)\n",
    "\n",
    "# Make predictions on the test set\n",
    "y_pred = model.predict(X_test)\n",
    "\n",
    "# Evaluate the model's performance\n",
    "accuracy = accuracy_score(y_test, y_pred)\n",
    "print(f\"Model Accuracy: {accuracy * 100:.2f}%\")\n",
    "\n",
    "# Print detailed classification report (precision, recall, F1-score)\n",
    "print(classification_report(y_test, y_pred))\n"
   ]
  },
  {
   "cell_type": "code",
   "execution_count": 7,
   "id": "737f337d",
   "metadata": {},
   "outputs": [
    {
     "name": "stdout",
     "output_type": "stream",
     "text": [
      "0    44\n",
      "1     6\n",
      "Name: Scholarship_1.0_Eligible, dtype: int64\n"
     ]
    }
   ],
   "source": [
    "print(students_df['Scholarship_1.0_Eligible'].value_counts())"
   ]
  },
  {
   "cell_type": "code",
   "execution_count": 8,
   "id": "9038da3a",
   "metadata": {},
   "outputs": [
    {
     "data": {
      "text/html": [
       "<style>#sk-container-id-1 {color: black;background-color: white;}#sk-container-id-1 pre{padding: 0;}#sk-container-id-1 div.sk-toggleable {background-color: white;}#sk-container-id-1 label.sk-toggleable__label {cursor: pointer;display: block;width: 100%;margin-bottom: 0;padding: 0.3em;box-sizing: border-box;text-align: center;}#sk-container-id-1 label.sk-toggleable__label-arrow:before {content: \"▸\";float: left;margin-right: 0.25em;color: #696969;}#sk-container-id-1 label.sk-toggleable__label-arrow:hover:before {color: black;}#sk-container-id-1 div.sk-estimator:hover label.sk-toggleable__label-arrow:before {color: black;}#sk-container-id-1 div.sk-toggleable__content {max-height: 0;max-width: 0;overflow: hidden;text-align: left;background-color: #f0f8ff;}#sk-container-id-1 div.sk-toggleable__content pre {margin: 0.2em;color: black;border-radius: 0.25em;background-color: #f0f8ff;}#sk-container-id-1 input.sk-toggleable__control:checked~div.sk-toggleable__content {max-height: 200px;max-width: 100%;overflow: auto;}#sk-container-id-1 input.sk-toggleable__control:checked~label.sk-toggleable__label-arrow:before {content: \"▾\";}#sk-container-id-1 div.sk-estimator input.sk-toggleable__control:checked~label.sk-toggleable__label {background-color: #d4ebff;}#sk-container-id-1 div.sk-label input.sk-toggleable__control:checked~label.sk-toggleable__label {background-color: #d4ebff;}#sk-container-id-1 input.sk-hidden--visually {border: 0;clip: rect(1px 1px 1px 1px);clip: rect(1px, 1px, 1px, 1px);height: 1px;margin: -1px;overflow: hidden;padding: 0;position: absolute;width: 1px;}#sk-container-id-1 div.sk-estimator {font-family: monospace;background-color: #f0f8ff;border: 1px dotted black;border-radius: 0.25em;box-sizing: border-box;margin-bottom: 0.5em;}#sk-container-id-1 div.sk-estimator:hover {background-color: #d4ebff;}#sk-container-id-1 div.sk-parallel-item::after {content: \"\";width: 100%;border-bottom: 1px solid gray;flex-grow: 1;}#sk-container-id-1 div.sk-label:hover label.sk-toggleable__label {background-color: #d4ebff;}#sk-container-id-1 div.sk-serial::before {content: \"\";position: absolute;border-left: 1px solid gray;box-sizing: border-box;top: 0;bottom: 0;left: 50%;z-index: 0;}#sk-container-id-1 div.sk-serial {display: flex;flex-direction: column;align-items: center;background-color: white;padding-right: 0.2em;padding-left: 0.2em;position: relative;}#sk-container-id-1 div.sk-item {position: relative;z-index: 1;}#sk-container-id-1 div.sk-parallel {display: flex;align-items: stretch;justify-content: center;background-color: white;position: relative;}#sk-container-id-1 div.sk-item::before, #sk-container-id-1 div.sk-parallel-item::before {content: \"\";position: absolute;border-left: 1px solid gray;box-sizing: border-box;top: 0;bottom: 0;left: 50%;z-index: -1;}#sk-container-id-1 div.sk-parallel-item {display: flex;flex-direction: column;z-index: 1;position: relative;background-color: white;}#sk-container-id-1 div.sk-parallel-item:first-child::after {align-self: flex-end;width: 50%;}#sk-container-id-1 div.sk-parallel-item:last-child::after {align-self: flex-start;width: 50%;}#sk-container-id-1 div.sk-parallel-item:only-child::after {width: 0;}#sk-container-id-1 div.sk-dashed-wrapped {border: 1px dashed gray;margin: 0 0.4em 0.5em 0.4em;box-sizing: border-box;padding-bottom: 0.4em;background-color: white;}#sk-container-id-1 div.sk-label label {font-family: monospace;font-weight: bold;display: inline-block;line-height: 1.2em;}#sk-container-id-1 div.sk-label-container {text-align: center;}#sk-container-id-1 div.sk-container {/* jupyter's `normalize.less` sets `[hidden] { display: none; }` but bootstrap.min.css set `[hidden] { display: none !important; }` so we also need the `!important` here to be able to override the default hidden behavior on the sphinx rendered scikit-learn.org. See: https://github.com/scikit-learn/scikit-learn/issues/21755 */display: inline-block !important;position: relative;}#sk-container-id-1 div.sk-text-repr-fallback {display: none;}</style><div id=\"sk-container-id-1\" class=\"sk-top-container\"><div class=\"sk-text-repr-fallback\"><pre>LogisticRegression(class_weight=&#x27;balanced&#x27;)</pre><b>In a Jupyter environment, please rerun this cell to show the HTML representation or trust the notebook. <br />On GitHub, the HTML representation is unable to render, please try loading this page with nbviewer.org.</b></div><div class=\"sk-container\" hidden><div class=\"sk-item\"><div class=\"sk-estimator sk-toggleable\"><input class=\"sk-toggleable__control sk-hidden--visually\" id=\"sk-estimator-id-1\" type=\"checkbox\" checked><label for=\"sk-estimator-id-1\" class=\"sk-toggleable__label sk-toggleable__label-arrow\">LogisticRegression</label><div class=\"sk-toggleable__content\"><pre>LogisticRegression(class_weight=&#x27;balanced&#x27;)</pre></div></div></div></div></div>"
      ],
      "text/plain": [
       "LogisticRegression(class_weight='balanced')"
      ]
     },
     "execution_count": 8,
     "metadata": {},
     "output_type": "execute_result"
    }
   ],
   "source": [
    "model = LogisticRegression(class_weight='balanced')\n",
    "model.fit(X_train, y_train)\n"
   ]
  },
  {
   "cell_type": "code",
   "execution_count": 9,
   "id": "baf64617",
   "metadata": {},
   "outputs": [
    {
     "name": "stdout",
     "output_type": "stream",
     "text": [
      "Model Accuracy: 90.00%\n",
      "              precision    recall  f1-score   support\n",
      "\n",
      "           0       1.00      0.89      0.94         9\n",
      "           1       0.50      1.00      0.67         1\n",
      "\n",
      "    accuracy                           0.90        10\n",
      "   macro avg       0.75      0.94      0.80        10\n",
      "weighted avg       0.95      0.90      0.91        10\n",
      "\n"
     ]
    }
   ],
   "source": [
    "# Make predictions on the test set\n",
    "y_pred = model.predict(X_test)\n",
    "\n",
    "# Evaluate the model's performance\n",
    "accuracy = accuracy_score(y_test, y_pred)\n",
    "print(f\"Model Accuracy: {accuracy * 100:.2f}%\")\n",
    "\n",
    "# Print detailed classification report (precision, recall, F1-score)\n",
    "print(classification_report(y_test, y_pred))\n"
   ]
  },
  {
   "cell_type": "code",
   "execution_count": 10,
   "id": "6f0336a1",
   "metadata": {},
   "outputs": [
    {
     "name": "stdout",
     "output_type": "stream",
     "text": [
      "Requirement already satisfied: imbalanced-learn in c:\\users\\rukmi\\anaconda3\\envs\\machinelearning\\lib\\site-packages (0.12.4)\n",
      "Requirement already satisfied: scikit-learn>=1.0.2 in c:\\users\\rukmi\\anaconda3\\envs\\machinelearning\\lib\\site-packages (from imbalanced-learn) (1.2.2)\n",
      "Requirement already satisfied: threadpoolctl>=2.0.0 in c:\\users\\rukmi\\anaconda3\\envs\\machinelearning\\lib\\site-packages (from imbalanced-learn) (3.1.0)\n",
      "Requirement already satisfied: joblib>=1.1.1 in c:\\users\\rukmi\\anaconda3\\envs\\machinelearning\\lib\\site-packages (from imbalanced-learn) (1.2.0)\n",
      "Requirement already satisfied: scipy>=1.5.0 in c:\\users\\rukmi\\anaconda3\\envs\\machinelearning\\lib\\site-packages (from imbalanced-learn) (1.10.1)\n",
      "Requirement already satisfied: numpy>=1.17.3 in c:\\users\\rukmi\\anaconda3\\envs\\machinelearning\\lib\\site-packages (from imbalanced-learn) (1.24.2)\n"
     ]
    },
    {
     "data": {
      "text/html": [
       "<style>#sk-container-id-2 {color: black;background-color: white;}#sk-container-id-2 pre{padding: 0;}#sk-container-id-2 div.sk-toggleable {background-color: white;}#sk-container-id-2 label.sk-toggleable__label {cursor: pointer;display: block;width: 100%;margin-bottom: 0;padding: 0.3em;box-sizing: border-box;text-align: center;}#sk-container-id-2 label.sk-toggleable__label-arrow:before {content: \"▸\";float: left;margin-right: 0.25em;color: #696969;}#sk-container-id-2 label.sk-toggleable__label-arrow:hover:before {color: black;}#sk-container-id-2 div.sk-estimator:hover label.sk-toggleable__label-arrow:before {color: black;}#sk-container-id-2 div.sk-toggleable__content {max-height: 0;max-width: 0;overflow: hidden;text-align: left;background-color: #f0f8ff;}#sk-container-id-2 div.sk-toggleable__content pre {margin: 0.2em;color: black;border-radius: 0.25em;background-color: #f0f8ff;}#sk-container-id-2 input.sk-toggleable__control:checked~div.sk-toggleable__content {max-height: 200px;max-width: 100%;overflow: auto;}#sk-container-id-2 input.sk-toggleable__control:checked~label.sk-toggleable__label-arrow:before {content: \"▾\";}#sk-container-id-2 div.sk-estimator input.sk-toggleable__control:checked~label.sk-toggleable__label {background-color: #d4ebff;}#sk-container-id-2 div.sk-label input.sk-toggleable__control:checked~label.sk-toggleable__label {background-color: #d4ebff;}#sk-container-id-2 input.sk-hidden--visually {border: 0;clip: rect(1px 1px 1px 1px);clip: rect(1px, 1px, 1px, 1px);height: 1px;margin: -1px;overflow: hidden;padding: 0;position: absolute;width: 1px;}#sk-container-id-2 div.sk-estimator {font-family: monospace;background-color: #f0f8ff;border: 1px dotted black;border-radius: 0.25em;box-sizing: border-box;margin-bottom: 0.5em;}#sk-container-id-2 div.sk-estimator:hover {background-color: #d4ebff;}#sk-container-id-2 div.sk-parallel-item::after {content: \"\";width: 100%;border-bottom: 1px solid gray;flex-grow: 1;}#sk-container-id-2 div.sk-label:hover label.sk-toggleable__label {background-color: #d4ebff;}#sk-container-id-2 div.sk-serial::before {content: \"\";position: absolute;border-left: 1px solid gray;box-sizing: border-box;top: 0;bottom: 0;left: 50%;z-index: 0;}#sk-container-id-2 div.sk-serial {display: flex;flex-direction: column;align-items: center;background-color: white;padding-right: 0.2em;padding-left: 0.2em;position: relative;}#sk-container-id-2 div.sk-item {position: relative;z-index: 1;}#sk-container-id-2 div.sk-parallel {display: flex;align-items: stretch;justify-content: center;background-color: white;position: relative;}#sk-container-id-2 div.sk-item::before, #sk-container-id-2 div.sk-parallel-item::before {content: \"\";position: absolute;border-left: 1px solid gray;box-sizing: border-box;top: 0;bottom: 0;left: 50%;z-index: -1;}#sk-container-id-2 div.sk-parallel-item {display: flex;flex-direction: column;z-index: 1;position: relative;background-color: white;}#sk-container-id-2 div.sk-parallel-item:first-child::after {align-self: flex-end;width: 50%;}#sk-container-id-2 div.sk-parallel-item:last-child::after {align-self: flex-start;width: 50%;}#sk-container-id-2 div.sk-parallel-item:only-child::after {width: 0;}#sk-container-id-2 div.sk-dashed-wrapped {border: 1px dashed gray;margin: 0 0.4em 0.5em 0.4em;box-sizing: border-box;padding-bottom: 0.4em;background-color: white;}#sk-container-id-2 div.sk-label label {font-family: monospace;font-weight: bold;display: inline-block;line-height: 1.2em;}#sk-container-id-2 div.sk-label-container {text-align: center;}#sk-container-id-2 div.sk-container {/* jupyter's `normalize.less` sets `[hidden] { display: none; }` but bootstrap.min.css set `[hidden] { display: none !important; }` so we also need the `!important` here to be able to override the default hidden behavior on the sphinx rendered scikit-learn.org. See: https://github.com/scikit-learn/scikit-learn/issues/21755 */display: inline-block !important;position: relative;}#sk-container-id-2 div.sk-text-repr-fallback {display: none;}</style><div id=\"sk-container-id-2\" class=\"sk-top-container\"><div class=\"sk-text-repr-fallback\"><pre>LogisticRegression()</pre><b>In a Jupyter environment, please rerun this cell to show the HTML representation or trust the notebook. <br />On GitHub, the HTML representation is unable to render, please try loading this page with nbviewer.org.</b></div><div class=\"sk-container\" hidden><div class=\"sk-item\"><div class=\"sk-estimator sk-toggleable\"><input class=\"sk-toggleable__control sk-hidden--visually\" id=\"sk-estimator-id-2\" type=\"checkbox\" checked><label for=\"sk-estimator-id-2\" class=\"sk-toggleable__label sk-toggleable__label-arrow\">LogisticRegression</label><div class=\"sk-toggleable__content\"><pre>LogisticRegression()</pre></div></div></div></div></div>"
      ],
      "text/plain": [
       "LogisticRegression()"
      ]
     },
     "execution_count": 10,
     "metadata": {},
     "output_type": "execute_result"
    }
   ],
   "source": [
    "!pip install imbalanced-learn\n",
    "\n",
    "from imblearn.over_sampling import SMOTE\n",
    "\n",
    "smote = SMOTE(k_neighbors=1)\n",
    "X_train_resampled, y_train_resampled = smote.fit_resample(X_train, y_train)\n",
    "\n",
    "model = LogisticRegression()\n",
    "model.fit(X_train_resampled, y_train_resampled)\n"
   ]
  },
  {
   "cell_type": "code",
   "execution_count": 11,
   "id": "44e3b868",
   "metadata": {},
   "outputs": [
    {
     "name": "stdout",
     "output_type": "stream",
     "text": [
      "Model Accuracy: 80.00%\n",
      "              precision    recall  f1-score   support\n",
      "\n",
      "           0       1.00      0.78      0.88         9\n",
      "           1       0.33      1.00      0.50         1\n",
      "\n",
      "    accuracy                           0.80        10\n",
      "   macro avg       0.67      0.89      0.69        10\n",
      "weighted avg       0.93      0.80      0.84        10\n",
      "\n"
     ]
    }
   ],
   "source": [
    "# Make predictions on the test set\n",
    "y_pred = model.predict(X_test)\n",
    "\n",
    "# Evaluate the model's performance\n",
    "accuracy = accuracy_score(y_test, y_pred)\n",
    "print(f\"Model Accuracy: {accuracy * 100:.2f}%\")\n",
    "\n",
    "# Print detailed classification report (precision, recall, F1-score)\n",
    "print(classification_report(y_test, y_pred))\n"
   ]
  },
  {
   "cell_type": "code",
   "execution_count": 12,
   "id": "58437dc4",
   "metadata": {},
   "outputs": [
    {
     "name": "stdout",
     "output_type": "stream",
     "text": [
      "Model Accuracy: 100.00%\n",
      "              precision    recall  f1-score   support\n",
      "\n",
      "           0       1.00      1.00      1.00         8\n",
      "           1       1.00      1.00      1.00        10\n",
      "\n",
      "    accuracy                           1.00        18\n",
      "   macro avg       1.00      1.00      1.00        18\n",
      "weighted avg       1.00      1.00      1.00        18\n",
      "\n"
     ]
    }
   ],
   "source": [
    "##Random Forest\n",
    "from sklearn.ensemble import RandomForestClassifier\n",
    "X = students_df[['GPA', 'Extracurriculars', 'Family_Income']]\n",
    "y = students_df['Scholarship_1.0_Eligible']\n",
    "\n",
    "# Apply SMOTE to balance the dataset (if not already done)\n",
    "from imblearn.over_sampling import SMOTE\n",
    "\n",
    "smote = SMOTE(k_neighbors=1)\n",
    "X_resampled, y_resampled = smote.fit_resample(X, y)\n",
    "# Split the resampled dataset into training and testing sets\n",
    "from sklearn.model_selection import train_test_split\n",
    "\n",
    "X_train, X_test, y_train, y_test = train_test_split(X_resampled, y_resampled, test_size=0.2, random_state=42)\n",
    "\n",
    "# Initialize and train the Random Forest model\n",
    "rf_model = RandomForestClassifier(random_state=42)\n",
    "rf_model.fit(X_train, y_train)\n",
    "\n",
    "# Make predictions on the test set\n",
    "y_pred = rf_model.predict(X_test)\n",
    "\n",
    "# Evaluate the model's performance\n",
    "accuracy = accuracy_score(y_test, y_pred)\n",
    "print(f\"Model Accuracy: {accuracy * 100:.2f}%\")\n",
    "print(classification_report(y_test, y_pred))"
   ]
  },
  {
   "cell_type": "code",
   "execution_count": 13,
   "id": "d1ef2bd9",
   "metadata": {},
   "outputs": [
    {
     "data": {
      "image/png": "[encoded data removed]",
      "text/plain": [
       "<Figure size 640x480 with 2 Axes>"
      ]
     },
     "metadata": {},
     "output_type": "display_data"
    }
   ],
   "source": [
    "##Confusion Matrix\n",
    "from sklearn.metrics import confusion_matrix, ConfusionMatrixDisplay\n",
    "import matplotlib.pyplot as plt\n",
    "# Compute confusion matrix\n",
    "cm = confusion_matrix(y_test, y_pred)\n",
    "\n",
    "# Create confusion matrix display\n",
    "disp = ConfusionMatrixDisplay(confusion_matrix=cm, display_labels=[\"Not Eligible\", \"Eligible\"])\n",
    "\n",
    "# Plot the confusion matrix\n",
    "disp.plot(cmap=plt.cm.Blues)\n",
    "plt.title(\"Confusion Matrix - Random Forest\")\n",
    "plt.show()"
   ]
  },
  {
   "cell_type": "code",
   "execution_count": 14,
   "id": "3cd8d7ba",
   "metadata": {},
   "outputs": [
    {
     "name": "stdout",
     "output_type": "stream",
     "text": [
      "Cross-Validation Scores: [0.94444444 1.         1.         1.         1.        ]\n",
      "Mean Cross-Validation Score: 0.99\n"
     ]
    }
   ],
   "source": [
    "from sklearn.model_selection import cross_val_score\n",
    "\n",
    "rf_model = RandomForestClassifier(random_state=42)\n",
    "cv_scores = cross_val_score(rf_model, X_resampled, y_resampled, cv=5)\n",
    "print(f\"Cross-Validation Scores: {cv_scores}\")\n",
    "print(f\"Mean Cross-Validation Score: {cv_scores.mean():.2f}\")\n"
   ]
  },
  {
   "cell_type": "code",
   "execution_count": 23,
   "id": "4fa1c12b",
   "metadata": {},
   "outputs": [
    {
     "name": "stdout",
     "output_type": "stream",
     "text": [
      "Cross-Validation Scores: [0.94444444 1.         1.         1.         1.        ]\n",
      "Mean Cross-Validation Score: 0.99\n",
      "Standard Deviation of CV Scores: 0.02\n"
     ]
    },
    {
     "data": {
      "image/png": "[encoded data removed]",
      "text/plain": [
       "<Figure size 800x500 with 1 Axes>"
      ]
     },
     "metadata": {},
     "output_type": "display_data"
    }
   ],
   "source": [
    "import matplotlib.pyplot as plt\n",
    "\n",
    "# Print Cross-Validation Scores\n",
    "print(f\"Cross-Validation Scores: {cv_scores}\")\n",
    "print(f\"Mean Cross-Validation Score: {cv_scores.mean():.2f}\")\n",
    "print(f\"Standard Deviation of CV Scores: {cv_scores.std():.2f}\")\n",
    "\n",
    "# Plot Cross-Validation Scores\n",
    "plt.figure(figsize=(8, 5))\n",
    "plt.plot(range(1, len(cv_scores) + 1), cv_scores, marker='o', linestyle='-', color='blue', label='CV Accuracy')\n",
    "plt.axhline(y=cv_scores.mean(), color='red', linestyle='--', label=f'Mean Accuracy: {cv_scores.mean():.2f}')\n",
    "plt.title('Cross-Validation Scores Across Folds')\n",
    "plt.xlabel('Fold Number')\n",
    "plt.ylabel('Accuracy')\n",
    "plt.ylim(0, 1)  # Accuracy is between 0 and 1\n",
    "plt.xticks(range(1, len(cv_scores) + 1))\n",
    "plt.grid(True)\n",
    "plt.legend()\n",
    "plt.show()"
   ]
  },
  {
   "cell_type": "markdown",
   "id": "4b01b620",
   "metadata": {},
   "source": [
    "# Random Forest Classifier for each Scholarship"
   ]
  },
  {
   "cell_type": "code",
   "execution_count": 15,
   "id": "7f254173",
   "metadata": {},
   "outputs": [],
   "source": [
    "import pandas as pd\n",
    "from sklearn.ensemble import RandomForestClassifier\n",
    "from sklearn.model_selection import train_test_split\n",
    "from imblearn.over_sampling import SMOTE\n",
    "\n",
    "\n",
    "\n",
    "# Assuming students_df is already loaded\n",
    "# Example of creating students_df for reference:\n",
    "# students_df = pd.DataFrame(...) # Your existing DataFrame\n",
    "\n",
    "# Create a dictionary to hold the trained models for each scholarship\n",
    "rf_models = {}\n",
    "accuracies = {}\n",
    "\n",
    "# Iterate over each scholarship eligibility column\n",
    "for scholarship in students_df.columns[5:]:  # Assuming the eligibility columns start from index 5\n",
    "    # Set the target variable based on the scholarship eligibility column\n",
    "    y = students_df[scholarship].astype(int)  # Convert boolean to int (1 for True, 0 for False)\n",
    "    \n",
    "    # Define features (GPA, Extracurriculars, Family_Income)\n",
    "    X = students_df[['GPA', 'Extracurriculars', 'Family_Income']]\n",
    "    \n",
    "    \n",
    "    smote = SMOTE(k_neighbors=1)\n",
    "    X_resampled, y_resampled = smote.fit_resample(X, y)\n",
    "    # Split the resampled dataset into training and testing sets\n",
    "    \n",
    "    X_train, X_test, y_train, y_test = train_test_split(X_resampled, y_resampled, test_size=0.2, random_state=42)\n",
    "    # Train the Random Forest model for this scholarship\n",
    "    rf_model = RandomForestClassifier(random_state=42)\n",
    "    rf_model.fit(X_train, y_train)\n",
    "    \n",
    "    # Store the trained model in the dictionary\n",
    "    rf_models[scholarship] = rf_model\n",
    "    \n",
    "    # Make predictions on the test set\n",
    "    y_pred = rf_model.predict(X_test)\n",
    "    \n",
    "    # Calculate accuracy\n",
    "    accuracy = accuracy_score(y_test, y_pred)\n",
    "    \n",
    "    # Store accuracy in the dictionary\n",
    "    accuracies[scholarship] = accuracy\n",
    "\n",
    "# After this loop, rf_models dictionary contains trained models for each scholarship\n"
   ]
  },
  {
   "cell_type": "code",
   "execution_count": 16,
   "id": "6c1ee282",
   "metadata": {},
   "outputs": [
    {
     "name": "stdout",
     "output_type": "stream",
     "text": [
      "{'Scholarship_1.0_Eligible': RandomForestClassifier(random_state=42), 'Scholarship_2.0_Eligible': RandomForestClassifier(random_state=42), 'Scholarship_3.0_Eligible': RandomForestClassifier(random_state=42), 'Scholarship_4.0_Eligible': RandomForestClassifier(random_state=42), 'Scholarship_5.0_Eligible': RandomForestClassifier(random_state=42), 'Scholarship_6.0_Eligible': RandomForestClassifier(random_state=42), 'Scholarship_7.0_Eligible': RandomForestClassifier(random_state=42), 'Scholarship_8.0_Eligible': RandomForestClassifier(random_state=42), 'Scholarship_9.0_Eligible': RandomForestClassifier(random_state=42), 'Scholarship_10.0_Eligible': RandomForestClassifier(random_state=42)}\n"
     ]
    }
   ],
   "source": [
    "print(rf_models)"
   ]
  },
  {
   "cell_type": "code",
   "execution_count": 17,
   "id": "f696b98e",
   "metadata": {},
   "outputs": [
    {
     "name": "stdout",
     "output_type": "stream",
     "text": [
      "Scholarship_1.0_Eligible: 100.00%\n",
      "Scholarship_2.0_Eligible: 100.00%\n",
      "Scholarship_3.0_Eligible: 94.44%\n",
      "Scholarship_4.0_Eligible: 100.00%\n",
      "Scholarship_5.0_Eligible: 100.00%\n",
      "Scholarship_6.0_Eligible: 100.00%\n",
      "Scholarship_7.0_Eligible: 100.00%\n",
      "Scholarship_8.0_Eligible: 94.44%\n",
      "Scholarship_9.0_Eligible: 100.00%\n",
      "Scholarship_10.0_Eligible: 93.75%\n"
     ]
    }
   ],
   "source": [
    "# Print the accuracies for each model\n",
    "for scholarship, accuracy in accuracies.items():\n",
    "    print(f\"{scholarship}: {accuracy * 100:.2f}%\")"
   ]
  },
  {
   "cell_type": "code",
   "execution_count": 18,
   "id": "4b96b3c2",
   "metadata": {},
   "outputs": [],
   "source": [
    "#Saving the model using pickel"
   ]
  },
  {
   "cell_type": "code",
   "execution_count": 19,
   "id": "5b5bf7c5",
   "metadata": {},
   "outputs": [],
   "source": [
    "import pickle\n",
    "\n",
    "# Save each trained model to a file\n",
    "for scholarship, model in rf_models.items():\n",
    "    with open(f\"{scholarship}.pkl\", \"wb\") as file:\n",
    "        pickle.dump(model, file)\n"
   ]
  },
  {
   "cell_type": "code",
   "execution_count": 20,
   "id": "c72003e6",
   "metadata": {},
   "outputs": [
    {
     "name": "stdout",
     "output_type": "stream",
     "text": [
      "Scholarship_1.0_Eligible: <class 'sklearn.ensemble._forest.RandomForestClassifier'>\n",
      "Scholarship_2.0_Eligible: <class 'sklearn.ensemble._forest.RandomForestClassifier'>\n",
      "Scholarship_3.0_Eligible: <class 'sklearn.ensemble._forest.RandomForestClassifier'>\n",
      "Scholarship_4.0_Eligible: <class 'sklearn.ensemble._forest.RandomForestClassifier'>\n",
      "Scholarship_5.0_Eligible: <class 'sklearn.ensemble._forest.RandomForestClassifier'>\n",
      "Scholarship_6.0_Eligible: <class 'sklearn.ensemble._forest.RandomForestClassifier'>\n",
      "Scholarship_7.0_Eligible: <class 'sklearn.ensemble._forest.RandomForestClassifier'>\n",
      "Scholarship_8.0_Eligible: <class 'sklearn.ensemble._forest.RandomForestClassifier'>\n",
      "Scholarship_9.0_Eligible: <class 'sklearn.ensemble._forest.RandomForestClassifier'>\n",
      "Scholarship_10.0_Eligible: <class 'sklearn.ensemble._forest.RandomForestClassifier'>\n"
     ]
    }
   ],
   "source": [
    "for scholarship, model in rf_models.items():\n",
    "    print(f\"{scholarship}: {type(model)}\")"
   ]
  },
  {
   "cell_type": "code",
   "execution_count": 21,
   "id": "37324d13",
   "metadata": {},
   "outputs": [
    {
     "name": "stdout",
     "output_type": "stream",
     "text": [
      "Scholarship_1.0_Eligible Prediction: Eligible\n",
      "Scholarship_2.0_Eligible Prediction: Not Eligible\n",
      "Scholarship_3.0_Eligible Prediction: Eligible\n",
      "Scholarship_4.0_Eligible Prediction: Eligible\n",
      "Scholarship_5.0_Eligible Prediction: Not Eligible\n",
      "Scholarship_6.0_Eligible Prediction: Not Eligible\n",
      "Scholarship_7.0_Eligible Prediction: Eligible\n",
      "Scholarship_8.0_Eligible Prediction: Eligible\n",
      "Scholarship_9.0_Eligible Prediction: Eligible\n",
      "Scholarship_10.0_Eligible Prediction: Eligible\n"
     ]
    }
   ],
   "source": [
    "#Example input for checking\n",
    "\n",
    "import pandas as pd\n",
    "\n",
    "# Example input as a DataFrame\n",
    "test_input = pd.DataFrame([[5.0, 10, 50000]], columns=['GPA', 'Extracurriculars', 'Family_Income'])\n",
    "\n",
    "# Prediction loop with the DataFrame\n",
    "for scholarship, model in rf_models.items():\n",
    "    prediction = model.predict(test_input)\n",
    "    print(f\"{scholarship} Prediction: {'Eligible' if prediction[0] == 1 else 'Not Eligible'}\")\n"
   ]
  },
  {
   "cell_type": "code",
   "execution_count": 22,
   "id": "17e0cdab",
   "metadata": {},
   "outputs": [
    {
     "name": "stdout",
     "output_type": "stream",
     "text": [
      "scikit-learn version: 1.2.2\n",
      "Pandas version: 1.5.3\n",
      "Numpy version: 1.24.2\n"
     ]
    }
   ],
   "source": [
    "import sklearn\n",
    "import pandas as pd\n",
    "import numpy as np\n",
    "\n",
    "print(f\"scikit-learn version: {sklearn.__version__}\")\n",
    "print(f\"Pandas version: {pd.__version__}\")\n",
    "print(f\"Numpy version: {np.__version__}\")\n"
   ]
  },
  {
   "cell_type": "code",
   "execution_count": null,
   "id": "ea4a88bd",
   "metadata": {},
   "outputs": [],
   "source": []
  },
  {
   "cell_type": "code",
   "execution_count": null,
   "id": "580a8861",
   "metadata": {},
   "outputs": [],
   "source": []
  },
  {
   "cell_type": "code",
   "execution_count": null,
   "id": "d124becf",
   "metadata": {},
   "outputs": [],
   "source": []
  }
 ],
 "metadata": {
  "kernelspec": {
   "display_name": "Python 3 (ipykernel)",
   "language": "python",
   "name": "python3"
  },
  "language_info": {
   "codemirror_mode": {
    "name": "ipython",
    "version": 3
   },
   "file_extension": ".py",
   "mimetype": "text/x-python",
   "name": "python",
   "nbconvert_exporter": "python",
   "pygments_lexer": "ipython3",
   "version": "3.9.16"
  }
 },
 "nbformat": 4,
 "nbformat_minor": 5
}
