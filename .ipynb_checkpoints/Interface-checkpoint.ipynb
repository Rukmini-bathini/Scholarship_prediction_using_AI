{
 "cells": [
  {
   "cell_type": "code",
   "execution_count": 11,
   "id": "2ea50c38",
   "metadata": {},
   "outputs": [
    {
     "name": "stdout",
     "output_type": "stream",
     "text": [
      "Note: you may need to restart the kernel to use updated packages.Requirement already satisfied: streamlit in c:\\users\\rukmi\\anaconda3\\envs\\machinelearning\\lib\\site-packages (1.21.0)\n",
      "Requirement already satisfied: pympler>=0.9 in c:\\users\\rukmi\\anaconda3\\envs\\machinelearning\\lib\\site-packages (from streamlit) (1.0.1)\n",
      "Requirement already satisfied: protobuf<4,>=3.12 in c:\\users\\rukmi\\anaconda3\\envs\\machinelearning\\lib\\site-packages (from streamlit) (3.20.3)\n",
      "Requirement already satisfied: importlib-metadata>=1.4 in c:\\users\\rukmi\\anaconda3\\envs\\machinelearning\\lib\\site-packages (from streamlit) (6.3.0)\n",
      "Requirement already satisfied: click>=7.0 in c:\\users\\rukmi\\anaconda3\\envs\\machinelearning\\lib\\site-packages (from streamlit) (8.1.3)\n",
      "Requirement already satisfied: python-dateutil in c:\\users\\rukmi\\anaconda3\\envs\\machinelearning\\lib\\site-packages (from streamlit) (2.8.2)\n",
      "Requirement already satisfied: numpy in c:\\users\\rukmi\\anaconda3\\envs\\machinelearning\\lib\\site-packages (from streamlit) (1.24.2)\n",
      "Requirement already satisfied: cachetools>=4.0 in c:\\users\\rukmi\\anaconda3\\envs\\machinelearning\\lib\\site-packages (from streamlit) (5.3.0)\n",
      "Requirement already satisfied: watchdog in c:\\users\\rukmi\\anaconda3\\envs\\machinelearning\\lib\\site-packages (from streamlit) (3.0.0)\n",
      "Requirement already satisfied: gitpython!=3.1.19 in c:\\users\\rukmi\\anaconda3\\envs\\machinelearning\\lib\\site-packages (from streamlit) (3.1.31)\n",
      "Requirement already satisfied: pyarrow>=4.0 in c:\\users\\rukmi\\anaconda3\\envs\\machinelearning\\lib\\site-packages (from streamlit) (11.0.0)\n",
      "Requirement already satisfied: pillow>=6.2.0 in c:\\users\\rukmi\\anaconda3\\envs\\machinelearning\\lib\\site-packages (from streamlit) (9.5.0)\n",
      "Requirement already satisfied: typing-extensions>=3.10.0.0 in c:\\users\\rukmi\\anaconda3\\envs\\machinelearning\\lib\\site-packages (from streamlit) (4.5.0)\n",
      "Requirement already satisfied: tzlocal>=1.1 in c:\\users\\rukmi\\anaconda3\\envs\\machinelearning\\lib\\site-packages (from streamlit) (4.3)\n",
      "Requirement already satisfied: pandas<2,>=0.25 in c:\\users\\rukmi\\anaconda3\\envs\\machinelearning\\lib\\site-packages (from streamlit) (1.5.3)\n",
      "Requirement already satisfied: packaging>=14.1 in c:\\users\\rukmi\\anaconda3\\envs\\machinelearning\\lib\\site-packages (from streamlit) (23.1)\n",
      "Requirement already satisfied: altair<5,>=3.2.0 in c:\\users\\rukmi\\anaconda3\\envs\\machinelearning\\lib\\site-packages (from streamlit) (4.2.2)\n",
      "Requirement already satisfied: pydeck>=0.1.dev5 in c:\\users\\rukmi\\anaconda3\\envs\\machinelearning\\lib\\site-packages (from streamlit) (0.8.0)\n",
      "Requirement already satisfied: rich>=10.11.0 in c:\\users\\rukmi\\anaconda3\\envs\\machinelearning\\lib\\site-packages (from streamlit) (13.3.4)\n",
      "Requirement already satisfied: validators>=0.2 in c:\\users\\rukmi\\anaconda3\\envs\\machinelearning\\lib\\site-packages (from streamlit) (0.20.0)\n",
      "Requirement already satisfied: tornado>=6.0.3 in c:\\users\\rukmi\\anaconda3\\envs\\machinelearning\\lib\\site-packages (from streamlit) (6.2)\n",
      "Requirement already satisfied: requests>=2.4 in c:\\users\\rukmi\\anaconda3\\envs\\machinelearning\\lib\\site-packages (from streamlit) (2.28.2)\n",
      "Requirement already satisfied: toml in c:\\users\\rukmi\\anaconda3\\envs\\machinelearning\\lib\\site-packages (from streamlit) (0.10.2)\n",
      "Requirement already satisfied: blinker>=1.0.0 in c:\\users\\rukmi\\anaconda3\\envs\\machinelearning\\lib\\site-packages (from streamlit) (1.6.2)\n",
      "Requirement already satisfied: toolz in c:\\users\\rukmi\\anaconda3\\envs\\machinelearning\\lib\\site-packages (from altair<5,>=3.2.0->streamlit) (0.12.0)\n",
      "Requirement already satisfied: jsonschema>=3.0 in c:\\users\\rukmi\\anaconda3\\envs\\machinelearning\\lib\\site-packages (from altair<5,>=3.2.0->streamlit) (4.17.3)\n",
      "Requirement already satisfied: jinja2 in c:\\users\\rukmi\\anaconda3\\envs\\machinelearning\\lib\\site-packages (from altair<5,>=3.2.0->streamlit) (3.1.2)\n",
      "Requirement already satisfied: entrypoints in c:\\users\\rukmi\\anaconda3\\envs\\machinelearning\\lib\\site-packages (from altair<5,>=3.2.0->streamlit) (0.4)\n",
      "Requirement already satisfied: colorama in c:\\users\\rukmi\\anaconda3\\envs\\machinelearning\\lib\\site-packages (from click>=7.0->streamlit) (0.4.6)\n",
      "Requirement already satisfied: gitdb<5,>=4.0.1 in c:\\users\\rukmi\\anaconda3\\envs\\machinelearning\\lib\\site-packages (from gitpython!=3.1.19->streamlit) (4.0.10)\n",
      "Requirement already satisfied: zipp>=0.5 in c:\\users\\rukmi\\anaconda3\\envs\\machinelearning\\lib\\site-packages (from importlib-metadata>=1.4->streamlit) (3.15.0)\n",
      "Requirement already satisfied: pytz>=2020.1 in c:\\users\\rukmi\\anaconda3\\envs\\machinelearning\\lib\\site-packages (from pandas<2,>=0.25->streamlit) (2023.3)\n",
      "Requirement already satisfied: six>=1.5 in c:\\users\\rukmi\\anaconda3\\envs\\machinelearning\\lib\\site-packages (from python-dateutil->streamlit) (1.16.0)\n",
      "Requirement already satisfied: certifi>=2017.4.17 in c:\\users\\rukmi\\anaconda3\\envs\\machinelearning\\lib\\site-packages (from requests>=2.4->streamlit) (2022.12.7)\n",
      "Requirement already satisfied: charset-normalizer<4,>=2 in c:\\users\\rukmi\\anaconda3\\envs\\machinelearning\\lib\\site-packages (from requests>=2.4->streamlit) (3.1.0)\n",
      "Requirement already satisfied: urllib3<1.27,>=1.21.1 in c:\\users\\rukmi\\anaconda3\\envs\\machinelearning\\lib\\site-packages (from requests>=2.4->streamlit) (1.26.15)\n",
      "Requirement already satisfied: idna<4,>=2.5 in c:\\users\\rukmi\\anaconda3\\envs\\machinelearning\\lib\\site-packages (from requests>=2.4->streamlit) (3.4)\n",
      "Requirement already satisfied: pygments<3.0.0,>=2.13.0 in c:\\users\\rukmi\\anaconda3\\envs\\machinelearning\\lib\\site-packages (from rich>=10.11.0->streamlit) (2.15.0)\n",
      "Requirement already satisfied: markdown-it-py<3.0.0,>=2.2.0 in c:\\users\\rukmi\\anaconda3\\envs\\machinelearning\\lib\\site-packages (from rich>=10.11.0->streamlit) (2.2.0)\n",
      "Requirement already satisfied: pytz-deprecation-shim in c:\\users\\rukmi\\anaconda3\\envs\\machinelearning\\lib\\site-packages (from tzlocal>=1.1->streamlit) (0.1.0.post0)\n",
      "Requirement already satisfied: tzdata in c:\\users\\rukmi\\anaconda3\\envs\\machinelearning\\lib\\site-packages (from tzlocal>=1.1->streamlit) (2023.3)\n",
      "Requirement already satisfied: decorator>=3.4.0 in c:\\users\\rukmi\\anaconda3\\envs\\machinelearning\\lib\\site-packages (from validators>=0.2->streamlit) (5.1.1)\n",
      "Requirement already satisfied: smmap<6,>=3.0.1 in c:\\users\\rukmi\\anaconda3\\envs\\machinelearning\\lib\\site-packages (from gitdb<5,>=4.0.1->gitpython!=3.1.19->streamlit) (5.0.0)\n",
      "Requirement already satisfied: MarkupSafe>=2.0 in c:\\users\\rukmi\\anaconda3\\envs\\machinelearning\\lib\\site-packages (from jinja2->altair<5,>=3.2.0->streamlit) (2.1.2)\n",
      "Requirement already satisfied: pyrsistent!=0.17.0,!=0.17.1,!=0.17.2,>=0.14.0 in c:\\users\\rukmi\\anaconda3\\envs\\machinelearning\\lib\\site-packages (from jsonschema>=3.0->altair<5,>=3.2.0->streamlit) (0.19.3)\n",
      "Requirement already satisfied: attrs>=17.4.0 in c:\\users\\rukmi\\anaconda3\\envs\\machinelearning\\lib\\site-packages (from jsonschema>=3.0->altair<5,>=3.2.0->streamlit) (22.2.0)\n",
      "Requirement already satisfied: mdurl~=0.1 in c:\\users\\rukmi\\anaconda3\\envs\\machinelearning\\lib\\site-packages (from markdown-it-py<3.0.0,>=2.2.0->rich>=10.11.0->streamlit) (0.1.2)\n",
      "\n"
     ]
    }
   ],
   "source": [
    "pip install streamlit"
   ]
  },
  {
   "cell_type": "code",
   "execution_count": 1,
   "id": "41b9ddf5",
   "metadata": {},
   "outputs": [
    {
     "name": "stdout",
     "output_type": "stream",
     "text": [
      "Writing app.py\n"
     ]
    }
   ],
   "source": [
    "%%writefile app.py\n",
    "import streamlit as st\n",
    "import numpy as np\n",
    "import pickle\n",
    "import pandas as pd\n",
    "# Load the trained models from pickle files\n",
    "rf_models = {}\n",
    "\n",
    "# List of scholarship names\n",
    "scholarship_names = [\"Scholarship_1.0_Eligible\", \"Scholarship_2.0_Eligible\", \"Scholarship_3.0_Eligible\",\n",
    "                    \"Scholarship_4.0_Eligible\", \"Scholarship_5.0_Eligible\", \"Scholarship_6.0_Eligible\",\n",
    "                    \"Scholarship_7.0_Eligible\", \"Scholarship_8.0_Eligible\", \"Scholarship_9.0_Eligible\",\n",
    "                    \"Scholarship_10.0_Eligible\"]\n",
    "\n",
    "for scholarship in scholarship_names:\n",
    "    with open(f\"{scholarship}.pkl\", \"rb\") as file:\n",
    "        rf_models[scholarship] = pickle.load(file)\n",
    "\n",
    "# Streamlit app interface\n",
    "st.title(\"Scholarship Eligibility Predictor\")\n",
    "\n",
    "# User inputs\n",
    "gpa = st.number_input(\"Enter your GPA:\", min_value=0.0, max_value=4.0, value=3.0, step=0.1)\n",
    "extracurriculars = st.number_input(\"Number of Extracurricular Activities:\", min_value=0, max_value=10, value=0)\n",
    "family_income = st.number_input(\"Family Income:\", min_value=0, value=50000)\n",
    "\n",
    "# Button to make predictions\n",
    "if st.button(\"Check Eligibility\"):\n",
    "    eligible_scholarships = []\n",
    "\n",
    "    # Prepare the input data as a DataFrame\n",
    "    input_data = pd.DataFrame([[gpa, extracurriculars, family_income]],\n",
    "                              columns=['GPA', 'Extracurriculars', 'Family_Income'])\n",
    "\n",
    "    # Check eligibility against each loaded model\n",
    "    for scholarship, model in rf_models.items():\n",
    "        # Ensure that the input data has the correct shape and is a DataFrame\n",
    "        #st.write(\"Input Data Shape:\", input_data.shape)  # Debugging line\n",
    "\n",
    "        # Make prediction\n",
    "        eligibility = model.predict(input_data.iloc[[0]]) # 0 or 1\n",
    "\n",
    "        if eligibility == 1:\n",
    "            eligible_scholarships.append(scholarship)\n",
    "\n",
    "    # Output the results\n",
    "    if eligible_scholarships:\n",
    "        st.success(\"You are eligible for the following scholarships:\")\n",
    "        for scholarship in eligible_scholarships:\n",
    "            st.write(f\"- {scholarship}\")\n",
    "    else:\n",
    "        st.error(\"You are not eligible for any scholarships.\")\n"
   ]
  },
  {
   "cell_type": "code",
   "execution_count": null,
   "id": "8d15305c",
   "metadata": {},
   "outputs": [],
   "source": [
    "# Cell 2: Run the Streamlit app\n",
    "!streamlit run app.py"
   ]
  },
  {
   "cell_type": "code",
   "execution_count": null,
   "id": "641f720a",
   "metadata": {},
   "outputs": [],
   "source": []
  }
 ],
 "metadata": {
  "kernelspec": {
   "display_name": "Python 3 (ipykernel)",
   "language": "python",
   "name": "python3"
  },
  "language_info": {
   "codemirror_mode": {
    "name": "ipython",
    "version": 3
   },
   "file_extension": ".py",
   "mimetype": "text/x-python",
   "name": "python",
   "nbconvert_exporter": "python",
   "pygments_lexer": "ipython3",
   "version": "3.9.16"
  }
 },
 "nbformat": 4,
 "nbformat_minor": 5
}
